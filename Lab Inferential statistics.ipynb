{
 "cells": [
  {
   "cell_type": "markdown",
   "id": "4bb9e6c3",
   "metadata": {},
   "source": [
    "## Instructions"
   ]
  },
  {
   "cell_type": "markdown",
   "id": "d42e4ec4",
   "metadata": {},
   "source": [
    "#### It is assumed that the mean systolic blood pressure is μ = 120 mm Hg. In the Honolulu Heart Study, a sample of n = 100 people had an average systolic blood pressure of 130.1 mm Hg with a standard deviation of 21.21 mm Hg. Is the group significantly different (with respect to systolic blood pressure!) from the regular population?\n",
    "\n",
    "#### 1. Set up a hypothesis testing"
   ]
  },
  {
   "cell_type": "markdown",
   "id": "7f42df16",
   "metadata": {},
   "source": [
    "data\n",
    "μ = 120 mm Hg\n",
    "sample of n = 100\n",
    "average(sample)μ=130.1 mm \n",
    "standard deviation = 21.21 mm Hg\n"
   ]
  },
  {
   "cell_type": "markdown",
   "id": "c2832ed8",
   "metadata": {},
   "source": [
    "H0 = mean of sample = mean of the general population\n",
    "Ha = different means"
   ]
  },
  {
   "cell_type": "markdown",
   "id": "1c5edecb",
   "metadata": {},
   "source": [
    "confidence interval = 95% pvalue=0,05"
   ]
  },
  {
   "cell_type": "markdown",
   "id": "1d6e4880",
   "metadata": {},
   "source": [
    "#### 2. Write down all the steps followed for setting up the test."
   ]
  },
  {
   "cell_type": "markdown",
   "id": "89a86c41",
   "metadata": {},
   "source": [
    "control group: the whole population\n",
    "treatment group: the sample of honolulu\n",
    "\n",
    "formula for t-value:  t = (sample mean - population mean) / (sample standard deviation / square root of sample size )"
   ]
  },
  {
   "cell_type": "markdown",
   "id": "bdca7715",
   "metadata": {},
   "source": [
    "#### 3. Calculate the test statistic by hand and also code it in Python. It should be 4.76190. We will take a look at how to make decisions based on this calculated value."
   ]
  },
  {
   "cell_type": "code",
   "execution_count": 2,
   "id": "c51ed6a3",
   "metadata": {},
   "outputs": [],
   "source": [
    "import math as m\n",
    "import scipy.stats as stats"
   ]
  },
  {
   "cell_type": "markdown",
   "id": "db9abb7d",
   "metadata": {},
   "source": [
    "By hand"
   ]
  },
  {
   "cell_type": "code",
   "execution_count": 8,
   "id": "59a1da8b",
   "metadata": {},
   "outputs": [
    {
     "name": "stdout",
     "output_type": "stream",
     "text": [
      "t =  4.761904761904759\n"
     ]
    }
   ],
   "source": [
    "x = 130.1 # sample mean\n",
    "μ = 120 #population mean\n",
    "s = 21.21 # sample standard deviation\n",
    "n = 100 # sample size\n",
    "\n",
    "t = (x - μ)/(s/m.sqrt(n))\n",
    "print(\"t = \", t)"
   ]
  },
  {
   "cell_type": "markdown",
   "id": "970efdb4",
   "metadata": {},
   "source": [
    "By python"
   ]
  },
  {
   "cell_type": "code",
   "execution_count": 9,
   "id": "60b681d3",
   "metadata": {},
   "outputs": [
    {
     "name": "stdout",
     "output_type": "stream",
     "text": [
      "-1.6603911559963902\n",
      "p = 6.562701817208617e-06\n",
      "We can reject H0\n"
     ]
    }
   ],
   "source": [
    "# degrees of fredom = sample -1\n",
    "df = n-1\n",
    "threshold = 0.05\n",
    "\n",
    "t2 = stats.t.ppf(q=0.05,df=df)\n",
    "print(t2)\n",
    "pvalue = stats.t.sf(abs(t), df=df)*2 # multiplied the one-tailed p-value by two to get the two-tailed p-value.\n",
    "print(\"p =\", pvalue)\n",
    "\n",
    "if pvalue < threshold:\n",
    "    print(\"We can reject H0\")\n",
    "else:\n",
    "    print(\"We do not have enough evidence to reject H0\")"
   ]
  },
  {
   "cell_type": "code",
   "execution_count": 10,
   "id": "a36ed061",
   "metadata": {},
   "outputs": [
    {
     "data": {
      "text/plain": [
       "99"
      ]
     },
     "execution_count": 10,
     "metadata": {},
     "output_type": "execute_result"
    }
   ],
   "source": [
    "df"
   ]
  },
  {
   "cell_type": "code",
   "execution_count": null,
   "id": "6e842e7f",
   "metadata": {},
   "outputs": [],
   "source": []
  },
  {
   "cell_type": "code",
   "execution_count": null,
   "id": "394bf150",
   "metadata": {},
   "outputs": [],
   "source": []
  },
  {
   "cell_type": "code",
   "execution_count": null,
   "id": "1641d3ff",
   "metadata": {},
   "outputs": [],
   "source": []
  }
 ],
 "metadata": {
  "kernelspec": {
   "display_name": "Python 3 (ipykernel)",
   "language": "python",
   "name": "python3"
  },
  "language_info": {
   "codemirror_mode": {
    "name": "ipython",
    "version": 3
   },
   "file_extension": ".py",
   "mimetype": "text/x-python",
   "name": "python",
   "nbconvert_exporter": "python",
   "pygments_lexer": "ipython3",
   "version": "3.9.13"
  }
 },
 "nbformat": 4,
 "nbformat_minor": 5
}
